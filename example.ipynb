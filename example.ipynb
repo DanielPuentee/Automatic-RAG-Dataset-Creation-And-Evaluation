{
 "cells": [
  {
   "cell_type": "markdown",
   "metadata": {},
   "source": [
    "*Author: [Daniel Puente Viejo](https://www.linkedin.com/in/danielpuenteviejo/)*\n",
    "\n",
    "## **Giskard & Ragas for automatic RAG evaluation**\n",
    "\n",
    "<img src=\"imgs/cover_page.png\" height=\"350\"> \n",
    "\n",
    "Practical example of how to automatically create and evaluate a dataset.\n",
    "\n",
    "### **Index:**\n",
    "\n",
    "- <a href='#1'><ins>1. 🔧 Setup</ins></a>\n",
    "- <a href='#2'><ins>2. 📦 Chunking & Vect BBDD creation</ins></a>\n",
    "- <a href='#3'><ins>3. ⚙️ Create dataset</ins></a>\n",
    "- <a href='#4'><ins>4. 🔄 Retrieve examples & Evaluate</ins></a>\n",
    "- <a href='#5'><ins>5. 🎯 Answer questions & Evaluate</ins></a>"
   ]
  },
  {
   "cell_type": "markdown",
   "metadata": {},
   "source": [
    "### <a id='1' style=\"color: skyblue;\">**1. 🔧 Setup**</a>\n",
    "\n",
    "We import the libraries and variables like the model name or index name among others\n",
    "\n",
    "```bash\n",
    "conda create -n <name> python=3.10.15\n",
    "conda activate <name>\n",
    "pip install -r requirements.txt\n",
    "```"
   ]
  },
  {
   "cell_type": "code",
   "execution_count": 1,
   "metadata": {},
   "outputs": [],
   "source": [
    "import warnings\n",
    "warnings.filterwarnings(\"ignore\")\n",
    "\n",
    "from dotenv import load_dotenv\n",
    "load_dotenv()\n",
    "\n",
    "import pandas as pd\n",
    "import os\n",
    "\n",
    "from langchain import FAISS\n",
    "from langchain.document_loaders import DataFrameLoader \n",
    "from langchain_google_genai import GoogleGenerativeAIEmbeddings, ChatGoogleGenerativeAI\n",
    "\n",
    "index_name = 'sample_index'\n",
    "embedding_model_name = 'embedding-001'\n",
    "llm_model_name = 'gemini-1.5-flash'\n",
    "use_langsmith = True"
   ]
  },
  {
   "cell_type": "markdown",
   "metadata": {},
   "source": [
    "It is important to configure the environment variables and the embedding models that will be used in the LLM. Additionally, the option to use LangSmith to track metrics can be enabled.\n",
    "\n",
    "Configure the environment variables with a `.env` file."
   ]
  },
  {
   "cell_type": "code",
   "execution_count": 2,
   "metadata": {},
   "outputs": [],
   "source": [
    "os.environ[\"GEMINI_API_KEY\"] = os.environ.get(\"GEMINI_API_KEY\")\n",
    "os.environ[\"GOOGLE_API_KEY\"] = os.environ.get(\"GEMINI_API_KEY\")\n",
    "\n",
    "if use_langsmith:\n",
    "    os.environ[\"LANGSMITH_API_KEY\"] = os.environ.get(\"LANGSMITH_API_KEY\")\n",
    "    os.environ[\"LANGSMITH_TRACING\"] = \"true\"\n",
    "    os.environ[\"LANGSMITH_PROJECT\"] = os.environ.get(\"LANGSMITH_PROJECT\")\n",
    "    from langsmith import utils\n",
    "    utils.tracing_is_enabled()\n",
    "\n",
    "embeddings = GoogleGenerativeAIEmbeddings(model=f\"models/{embedding_model_name}\")\n",
    "llm = ChatGoogleGenerativeAI(model=llm_model_name,\n",
    "                             temperature=0.0, \n",
    "                             max_output_tokens=512)"
   ]
  },
  {
   "cell_type": "markdown",
   "metadata": {},
   "source": [
    "We load the clients. These are **scripts from the `/src` folder** where we have grouped functionalities to allow us to **quickly progress in the notebooks**. These are basically:\n",
    "\n",
    "- **Chunking** - Facilitates generating chunks given a set of paths.\n",
    "- **RAGDataset** - Automatically generates the dataset for us.\n",
    "- **Retrieval** - Given a set of questions, returns the retrieved results.\n",
    "- **Answering** - Given a set of questions, returns the answers.\n",
    "- **Evaluation** - Allows us to evaluate both the retrieval and the answers."
   ]
  },
  {
   "cell_type": "code",
   "execution_count": 3,
   "metadata": {},
   "outputs": [],
   "source": [
    "from src.chunk_generation import Chunking\n",
    "from src.dataset_creation import RAGDataset\n",
    "from src.retrieval import Retrieval\n",
    "from src.answer import Answering\n",
    "from src.evaluation import Evaluation\n",
    "\n",
    "chunking_client = Chunking()\n",
    "datasetcreation_client = RAGDataset(llm_model = f\"gemini/{llm_model_name}\", \n",
    "                                    embedding_model= f\"gemini/{embedding_model_name}\")\n",
    "retrieval_client = Retrieval(index_name = index_name, \n",
    "                             embeddings = embeddings)\n",
    "answering_client = Answering()\n",
    "evaluation_client = Evaluation(llm, embeddings)"
   ]
  },
  {
   "cell_type": "markdown",
   "metadata": {},
   "source": [
    "### <a id='2' style=\"color: skyblue;\">**2. 📦 Chunking & Vect BBDD creation**</a>"
   ]
  },
  {
   "cell_type": "code",
   "execution_count": 4,
   "metadata": {},
   "outputs": [
    {
     "name": "stdout",
     "output_type": "stream",
     "text": [
      "['data/source/Breaking Bad.pdf', 'data/source/Game of Thrones.pdf', 'data/source/La casa de papel.pdf', 'data/source/Suits.pdf']\n"
     ]
    }
   ],
   "source": [
    "data_folder = \"data/source\"\n",
    "paths = [f\"{data_folder}/{f}\" for f in os.listdir(data_folder) if f.endswith(\".pdf\")]\n",
    "print(paths)"
   ]
  },
  {
   "cell_type": "markdown",
   "metadata": {},
   "source": [
    "In case the chunks have not been generated, we generate them with this simple piece of code."
   ]
  },
  {
   "cell_type": "code",
   "execution_count": null,
   "metadata": {},
   "outputs": [
    {
     "data": {
      "text/html": [
       "<div>\n",
       "<style scoped>\n",
       "    .dataframe tbody tr th:only-of-type {\n",
       "        vertical-align: middle;\n",
       "    }\n",
       "\n",
       "    .dataframe tbody tr th {\n",
       "        vertical-align: top;\n",
       "    }\n",
       "\n",
       "    .dataframe thead th {\n",
       "        text-align: right;\n",
       "    }\n",
       "</style>\n",
       "<table border=\"1\" class=\"dataframe\">\n",
       "  <thead>\n",
       "    <tr style=\"text-align: right;\">\n",
       "      <th></th>\n",
       "      <th>chunk_id</th>\n",
       "      <th>content</th>\n",
       "      <th>filename</th>\n",
       "      <th>page</th>\n",
       "    </tr>\n",
       "  </thead>\n",
       "  <tbody>\n",
       "    <tr>\n",
       "      <th>0</th>\n",
       "      <td>956eeabc-6f25-4b71-a996-57f39d026f64</td>\n",
       "      <td>Synopsis  \\nWhat would you do if you found out...</td>\n",
       "      <td>Breaking Bad.pdf</td>\n",
       "      <td>1</td>\n",
       "    </tr>\n",
       "    <tr>\n",
       "      <th>1</th>\n",
       "      <td>d04ad72a-fe75-41ea-830f-3e1b657661f5</td>\n",
       "      <td>. With \\nhis business at risk, Walter hires la...</td>\n",
       "      <td>Breaking Bad.pdf</td>\n",
       "      <td>1</td>\n",
       "    </tr>\n",
       "    <tr>\n",
       "      <th>2</th>\n",
       "      <td>b624dcdc-841d-469e-b37c-d2fe5949eddf</td>\n",
       "      <td>divorce.  \\nGus is determined to bring Walter ...</td>\n",
       "      <td>Breaking Bad.pdf</td>\n",
       "      <td>2</td>\n",
       "    </tr>\n",
       "    <tr>\n",
       "      <th>3</th>\n",
       "      <td>995540ad-0423-45fc-87b8-bf0f97e14369</td>\n",
       "      <td>\\nThe choice of the title Breaking Bad  offe...</td>\n",
       "      <td>Breaking Bad.pdf</td>\n",
       "      <td>2</td>\n",
       "    </tr>\n",
       "    <tr>\n",
       "      <th>4</th>\n",
       "      <td>0e037077-d86b-4b2b-87ef-5c9009421014</td>\n",
       "      <td>Game of Thrones (Juego de tronos) , also commo...</td>\n",
       "      <td>Game of Thrones.pdf</td>\n",
       "      <td>1</td>\n",
       "    </tr>\n",
       "  </tbody>\n",
       "</table>\n",
       "</div>"
      ],
      "text/plain": [
       "                               chunk_id  \\\n",
       "0  956eeabc-6f25-4b71-a996-57f39d026f64   \n",
       "1  d04ad72a-fe75-41ea-830f-3e1b657661f5   \n",
       "2  b624dcdc-841d-469e-b37c-d2fe5949eddf   \n",
       "3  995540ad-0423-45fc-87b8-bf0f97e14369   \n",
       "4  0e037077-d86b-4b2b-87ef-5c9009421014   \n",
       "\n",
       "                                             content             filename  \\\n",
       "0  Synopsis  \\nWhat would you do if you found out...     Breaking Bad.pdf   \n",
       "1  . With \\nhis business at risk, Walter hires la...     Breaking Bad.pdf   \n",
       "2  divorce.  \\nGus is determined to bring Walter ...     Breaking Bad.pdf   \n",
       "3    \\nThe choice of the title Breaking Bad  offe...     Breaking Bad.pdf   \n",
       "4  Game of Thrones (Juego de tronos) , also commo...  Game of Thrones.pdf   \n",
       "\n",
       "   page  \n",
       "0     1  \n",
       "1     1  \n",
       "2     2  \n",
       "3     2  \n",
       "4     1  "
      ]
     },
     "execution_count": 6,
     "metadata": {},
     "output_type": "execute_result"
    }
   ],
   "source": [
    "chunks_path = \"data/chunks\"\n",
    "chunks_filename = \"chunks.csv\"\n",
    "chunks_complete_path = f\"{chunks_path}/{chunks_filename}\"\n",
    "\n",
    "if not os.path.exists(chunks_complete_path):\n",
    "    print(\"Creating chunks...\")\n",
    "    df_chunks = chunking_client.preprocess_chunking(paths = paths, chunk_size=500, chunk_overlap=50)\n",
    "    df_chunks.to_csv(chunks_complete_path, index=False)\n",
    "\n",
    "else:\n",
    "    print(\"Loading chunks...\")\n",
    "    df_chunks = pd.read_csv(chunks_complete_path)\n",
    "    \n",
    "df_chunks.head()"
   ]
  },
  {
   "cell_type": "markdown",
   "metadata": {},
   "source": [
    "In case the index doesn't exist, we create it with this piece of code.\n",
    "\n",
    "For this code, we will use the Langchain and FAISS libraries. **FAISS (Facebook AI Similarity Search) is a library for efficient similarity search and clustering of dense vectors. It allows for fast retrieval of vectors similar to a query vector, even in large datasets. It's commonly used for tasks like recommendation systems, image retrieval, and semantic search, making it a valuable tool for RAG applications.**"
   ]
  },
  {
   "cell_type": "code",
   "execution_count": null,
   "metadata": {},
   "outputs": [
    {
     "data": {
      "text/plain": [
       "<langchain_community.vectorstores.faiss.FAISS at 0x232e4966920>"
      ]
     },
     "execution_count": 7,
     "metadata": {},
     "output_type": "execute_result"
    }
   ],
   "source": [
    "if not os.path.exists(index_name):\n",
    "    print(\"Creating index...\")\n",
    "    loader = DataFrameLoader(df_chunks, page_content_column=\"content\")\n",
    "    data = loader.load()\n",
    "    db = FAISS.from_documents(data, embedding=embeddings)\n",
    "    db.save_local(index_name)\n",
    "\n",
    "else:\n",
    "    print(\"Loading index...\")\n",
    "    db = FAISS.load_local(index_name, embeddings, allow_dangerous_deserialization=True)\n",
    "db"
   ]
  },
  {
   "cell_type": "markdown",
   "metadata": {},
   "source": [
    "### <a id='3' style=\"color: skyblue;\">**3. ⚙️ Create dataset**</a>"
   ]
  },
  {
   "cell_type": "code",
   "execution_count": null,
   "metadata": {},
   "outputs": [],
   "source": [
    "num_questions = 5\n",
    "\n",
    "testset_path = \"data/testset\"\n",
    "testset_filename = \"testset.csv\"\n",
    "testset_complete_path = f\"{testset_path}/{testset_filename}\"\n",
    "\n",
    "if not os.path.exists(testset_complete_path):\n",
    "    print(\"Creating dataset...\")\n",
    "    testset_df = datasetcreation_client.dataset_creation(df_chunks, num_questions=num_questions)\n",
    "    testset_df.to_csv(testset_complete_path, index=False)\n",
    "\n",
    "else:\n",
    "    print(\"Loading dataset...\")\n",
    "    testset_df = pd.read_csv(testset_complete_path)\n",
    "\n",
    "testset_df.head()"
   ]
  },
  {
   "cell_type": "markdown",
   "metadata": {},
   "source": [
    "### <a id='4' style=\"color: skyblue;\">**4. 🔄 Retrieve examples & Evaluate**</a>"
   ]
  },
  {
   "cell_type": "markdown",
   "metadata": {},
   "source": [
    "Perform a simple retrieval.\n"
   ]
  },
  {
   "cell_type": "code",
   "execution_count": null,
   "metadata": {},
   "outputs": [
    {
     "data": {
      "text/html": [
       "<div>\n",
       "<style scoped>\n",
       "    .dataframe tbody tr th:only-of-type {\n",
       "        vertical-align: middle;\n",
       "    }\n",
       "\n",
       "    .dataframe tbody tr th {\n",
       "        vertical-align: top;\n",
       "    }\n",
       "\n",
       "    .dataframe thead th {\n",
       "        text-align: right;\n",
       "    }\n",
       "</style>\n",
       "<table border=\"1\" class=\"dataframe\">\n",
       "  <thead>\n",
       "    <tr style=\"text-align: right;\">\n",
       "      <th></th>\n",
       "      <th>id</th>\n",
       "      <th>question</th>\n",
       "      <th>reference_answer</th>\n",
       "      <th>reference_context</th>\n",
       "      <th>reference_context_id</th>\n",
       "      <th>reference_metadata</th>\n",
       "      <th>reference_context_metadata</th>\n",
       "      <th>generated_context</th>\n",
       "      <th>generated_context_id</th>\n",
       "    </tr>\n",
       "  </thead>\n",
       "  <tbody>\n",
       "    <tr>\n",
       "      <th>0</th>\n",
       "      <td>78b68230-a162-4db4-8136-2ee37d587d8d</td>\n",
       "      <td>What happens to Mike in Season 5 of the show?</td>\n",
       "      <td>In Season 5, Mike's secret is exposed, leading...</td>\n",
       "      <td>[future at Columbia Law School with Jessica's ...</td>\n",
       "      <td>[2a2469b6-e6af-4a90-a391-433a07c98ddc]</td>\n",
       "      <td>{'question_type': 'simple', 'seed_document_id'...</td>\n",
       "      <td>[{'chunk_id': '2a2469b6-e6af-4a90-a391-433a07c...</td>\n",
       "      <td>[extorsión por un abogado rival. También es in...</td>\n",
       "      <td>[0160d24c-6584-402d-b804-6e92ba8255c9, 41743e7...</td>\n",
       "    </tr>\n",
       "    <tr>\n",
       "      <th>1</th>\n",
       "      <td>f5538a32-3ca5-40ca-827d-436e985581f2</td>\n",
       "      <td>What actions does Palermo take that negatively...</td>\n",
       "      <td>Palermo betrays the group by freeing Gandía, t...</td>\n",
       "      <td>[surgery to save Nairobi’s life. Palermo, angr...</td>\n",
       "      <td>[89a461b9-f6ec-437e-9537-c6528a4c7fef]</td>\n",
       "      <td>{'question_type': 'simple', 'seed_document_id'...</td>\n",
       "      <td>[{'chunk_id': '89a461b9-f6ec-437e-9537-c6528a4...</td>\n",
       "      <td>[Desde su posición, El Profesor no puede comun...</td>\n",
       "      <td>[4822741e-b957-45cd-a9d6-580747d071eb, 65951db...</td>\n",
       "    </tr>\n",
       "    <tr>\n",
       "      <th>2</th>\n",
       "      <td>305cfa21-af0a-4b5a-b1a2-5f47debcf8de</td>\n",
       "      <td>Summarize the key plot points of Breaking Bad ...</td>\n",
       "      <td>In Season 2, Tuco kidnaps Jesse and Walter, bu...</td>\n",
       "      <td>[Synopsis  \\nWhat would you do if you found ou...</td>\n",
       "      <td>[956eeabc-6f25-4b71-a996-57f39d026f64]</td>\n",
       "      <td>{'question_type': 'complex', 'seed_document_id...</td>\n",
       "      <td>[{'chunk_id': '956eeabc-6f25-4b71-a996-57f39d0...</td>\n",
       "      <td>[Sinopsis  \\n¿Qué harías si te enteraras de qu...</td>\n",
       "      <td>[a4f4a369-b391-4e27-a0b2-172f83213250, 886710a...</td>\n",
       "    </tr>\n",
       "    <tr>\n",
       "      <th>3</th>\n",
       "      <td>98305e60-ee2c-4060-a264-c024d7f54507</td>\n",
       "      <td>Considering the events leading to his demise i...</td>\n",
       "      <td>At the end of Season 1, King Robert dies, and ...</td>\n",
       "      <td>[During the visit, Bran Stark, one of the youn...</td>\n",
       "      <td>[a7281899-984d-4949-b3ba-1018535c716f]</td>\n",
       "      <td>{'question_type': 'complex', 'seed_document_id...</td>\n",
       "      <td>[{'chunk_id': 'a7281899-984d-4949-b3ba-1018535...</td>\n",
       "      <td>[Game of Thrones  (Juego de tronos ), también ...</td>\n",
       "      <td>[73e3e45d-1319-4c14-9bc5-286411d9600e, bb8ae8d...</td>\n",
       "    </tr>\n",
       "    <tr>\n",
       "      <th>4</th>\n",
       "      <td>830b3061-9cb8-458e-a21a-3852b8e809df</td>\n",
       "      <td>Considering the thematic trajectory of 'Suits,...</td>\n",
       "      <td>The title \"Breaking Bad,\" a colloquial idiom, ...</td>\n",
       "      <td>[The choice of the title Breaking Bad  offers ...</td>\n",
       "      <td>[995540ad-0423-45fc-87b8-bf0f97e14369]</td>\n",
       "      <td>{'question_type': 'distracting element', 'seed...</td>\n",
       "      <td>[{'chunk_id': '995540ad-0423-45fc-87b8-bf0f97e...</td>\n",
       "      <td>[Suits:  \\nSuits sigue a Mike Ross, un brillan...</td>\n",
       "      <td>[12cdc330-ad29-45b1-ba46-7c8259082623, 886710a...</td>\n",
       "    </tr>\n",
       "    <tr>\n",
       "      <th>5</th>\n",
       "      <td>4a8f8d36-ff4f-4ab4-a567-885a2bf1fd8d</td>\n",
       "      <td>Comparing the narrative structures of Season 1...</td>\n",
       "      <td>Season 1 introduces Mike Ross, hired by Harvey...</td>\n",
       "      <td>[Suits  \\nSuits  follows Mike Ross, a brillian...</td>\n",
       "      <td>[6d4225fb-1693-44e3-8b2b-17098a372beb]</td>\n",
       "      <td>{'question_type': 'distracting element', 'seed...</td>\n",
       "      <td>[{'chunk_id': '6d4225fb-1693-44e3-8b2b-17098a3...</td>\n",
       "      <td>[Suits:  \\nSuits sigue a Mike Ross, un brillan...</td>\n",
       "      <td>[12cdc330-ad29-45b1-ba46-7c8259082623, 65951db...</td>\n",
       "    </tr>\n",
       "    <tr>\n",
       "      <th>6</th>\n",
       "      <td>dfc9763c-f17a-4b84-b8cd-1945568450e3</td>\n",
       "      <td>Hi, I'm a bit confused about the ending of Gam...</td>\n",
       "      <td>Bran becomes the new king, and Tyrion is his H...</td>\n",
       "      <td>[Jon, horrified by Daenerys's actions, assassi...</td>\n",
       "      <td>[d6b47f89-1f63-47ea-a5e1-925fff02bf11]</td>\n",
       "      <td>{'question_type': 'situational', 'seed_documen...</td>\n",
       "      <td>[{'chunk_id': 'd6b47f89-1f63-47ea-a5e1-925fff0...</td>\n",
       "      <td>[Después, Jon viaja más allá del Muro para arr...</td>\n",
       "      <td>[b85c049c-2334-481a-8edd-b92c521b2812, 73e3e45...</td>\n",
       "    </tr>\n",
       "  </tbody>\n",
       "</table>\n",
       "</div>"
      ],
      "text/plain": [
       "                                     id  \\\n",
       "0  78b68230-a162-4db4-8136-2ee37d587d8d   \n",
       "1  f5538a32-3ca5-40ca-827d-436e985581f2   \n",
       "2  305cfa21-af0a-4b5a-b1a2-5f47debcf8de   \n",
       "3  98305e60-ee2c-4060-a264-c024d7f54507   \n",
       "4  830b3061-9cb8-458e-a21a-3852b8e809df   \n",
       "5  4a8f8d36-ff4f-4ab4-a567-885a2bf1fd8d   \n",
       "6  dfc9763c-f17a-4b84-b8cd-1945568450e3   \n",
       "\n",
       "                                            question  \\\n",
       "0      What happens to Mike in Season 5 of the show?   \n",
       "1  What actions does Palermo take that negatively...   \n",
       "2  Summarize the key plot points of Breaking Bad ...   \n",
       "3  Considering the events leading to his demise i...   \n",
       "4  Considering the thematic trajectory of 'Suits,...   \n",
       "5  Comparing the narrative structures of Season 1...   \n",
       "6  Hi, I'm a bit confused about the ending of Gam...   \n",
       "\n",
       "                                    reference_answer  \\\n",
       "0  In Season 5, Mike's secret is exposed, leading...   \n",
       "1  Palermo betrays the group by freeing Gandía, t...   \n",
       "2  In Season 2, Tuco kidnaps Jesse and Walter, bu...   \n",
       "3  At the end of Season 1, King Robert dies, and ...   \n",
       "4  The title \"Breaking Bad,\" a colloquial idiom, ...   \n",
       "5  Season 1 introduces Mike Ross, hired by Harvey...   \n",
       "6  Bran becomes the new king, and Tyrion is his H...   \n",
       "\n",
       "                                   reference_context  \\\n",
       "0  [future at Columbia Law School with Jessica's ...   \n",
       "1  [surgery to save Nairobi’s life. Palermo, angr...   \n",
       "2  [Synopsis  \\nWhat would you do if you found ou...   \n",
       "3  [During the visit, Bran Stark, one of the youn...   \n",
       "4  [The choice of the title Breaking Bad  offers ...   \n",
       "5  [Suits  \\nSuits  follows Mike Ross, a brillian...   \n",
       "6  [Jon, horrified by Daenerys's actions, assassi...   \n",
       "\n",
       "                     reference_context_id  \\\n",
       "0  [2a2469b6-e6af-4a90-a391-433a07c98ddc]   \n",
       "1  [89a461b9-f6ec-437e-9537-c6528a4c7fef]   \n",
       "2  [956eeabc-6f25-4b71-a996-57f39d026f64]   \n",
       "3  [a7281899-984d-4949-b3ba-1018535c716f]   \n",
       "4  [995540ad-0423-45fc-87b8-bf0f97e14369]   \n",
       "5  [6d4225fb-1693-44e3-8b2b-17098a372beb]   \n",
       "6  [d6b47f89-1f63-47ea-a5e1-925fff02bf11]   \n",
       "\n",
       "                                  reference_metadata  \\\n",
       "0  {'question_type': 'simple', 'seed_document_id'...   \n",
       "1  {'question_type': 'simple', 'seed_document_id'...   \n",
       "2  {'question_type': 'complex', 'seed_document_id...   \n",
       "3  {'question_type': 'complex', 'seed_document_id...   \n",
       "4  {'question_type': 'distracting element', 'seed...   \n",
       "5  {'question_type': 'distracting element', 'seed...   \n",
       "6  {'question_type': 'situational', 'seed_documen...   \n",
       "\n",
       "                          reference_context_metadata  \\\n",
       "0  [{'chunk_id': '2a2469b6-e6af-4a90-a391-433a07c...   \n",
       "1  [{'chunk_id': '89a461b9-f6ec-437e-9537-c6528a4...   \n",
       "2  [{'chunk_id': '956eeabc-6f25-4b71-a996-57f39d0...   \n",
       "3  [{'chunk_id': 'a7281899-984d-4949-b3ba-1018535...   \n",
       "4  [{'chunk_id': '995540ad-0423-45fc-87b8-bf0f97e...   \n",
       "5  [{'chunk_id': '6d4225fb-1693-44e3-8b2b-17098a3...   \n",
       "6  [{'chunk_id': 'd6b47f89-1f63-47ea-a5e1-925fff0...   \n",
       "\n",
       "                                   generated_context  \\\n",
       "0  [extorsión por un abogado rival. También es in...   \n",
       "1  [Desde su posición, El Profesor no puede comun...   \n",
       "2  [Sinopsis  \\n¿Qué harías si te enteraras de qu...   \n",
       "3  [Game of Thrones  (Juego de tronos ), también ...   \n",
       "4  [Suits:  \\nSuits sigue a Mike Ross, un brillan...   \n",
       "5  [Suits:  \\nSuits sigue a Mike Ross, un brillan...   \n",
       "6  [Después, Jon viaja más allá del Muro para arr...   \n",
       "\n",
       "                                generated_context_id  \n",
       "0  [0160d24c-6584-402d-b804-6e92ba8255c9, 41743e7...  \n",
       "1  [4822741e-b957-45cd-a9d6-580747d071eb, 65951db...  \n",
       "2  [a4f4a369-b391-4e27-a0b2-172f83213250, 886710a...  \n",
       "3  [73e3e45d-1319-4c14-9bc5-286411d9600e, bb8ae8d...  \n",
       "4  [12cdc330-ad29-45b1-ba46-7c8259082623, 886710a...  \n",
       "5  [12cdc330-ad29-45b1-ba46-7c8259082623, 65951db...  \n",
       "6  [b85c049c-2334-481a-8edd-b92c521b2812, 73e3e45...  "
      ]
     },
     "execution_count": 16,
     "metadata": {},
     "output_type": "execute_result"
    }
   ],
   "source": [
    "chunks, chunks_id = retrieval_client.retrieval_multiple_queries(\n",
    "    queries = testset_df[\"question\"].tolist(),\n",
    "    top_k = 5\n",
    ")\n",
    "testset_df['generated_context'], testset_df['generated_context_id'] = chunks, chunks_id\n",
    "testset_df.head()"
   ]
  },
  {
   "cell_type": "markdown",
   "metadata": {},
   "source": [
    "Evaluate the retrieval, specifying the `context_precision` and `context_recall` metrics."
   ]
  },
  {
   "cell_type": "code",
   "execution_count": 10,
   "metadata": {},
   "outputs": [
    {
     "name": "stderr",
     "output_type": "stream",
     "text": [
      "Evaluating: 100%|██████████| 4/4 [00:05<00:00,  1.29s/it]\n"
     ]
    },
    {
     "data": {
      "text/html": [
       "<div>\n",
       "<style scoped>\n",
       "    .dataframe tbody tr th:only-of-type {\n",
       "        vertical-align: middle;\n",
       "    }\n",
       "\n",
       "    .dataframe tbody tr th {\n",
       "        vertical-align: top;\n",
       "    }\n",
       "\n",
       "    .dataframe thead th {\n",
       "        text-align: right;\n",
       "    }\n",
       "</style>\n",
       "<table border=\"1\" class=\"dataframe\">\n",
       "  <thead>\n",
       "    <tr style=\"text-align: right;\">\n",
       "      <th></th>\n",
       "      <th>question</th>\n",
       "      <th>generated_context</th>\n",
       "      <th>reference_contexts</th>\n",
       "      <th>reference_answer</th>\n",
       "      <th>context_precision</th>\n",
       "      <th>context_recall</th>\n",
       "    </tr>\n",
       "  </thead>\n",
       "  <tbody>\n",
       "    <tr>\n",
       "      <th>0</th>\n",
       "      <td>En la tercera temporada, ¿quiénes se unen a la...</td>\n",
       "      <td>[Desde su posición, El Profesor no puede comun...</td>\n",
       "      <td>[Por su parte, Sagasta traza un plan para desp...</td>\n",
       "      <td>A esta nueva aventura se incorporarán nuevos i...</td>\n",
       "      <td>1.0</td>\n",
       "      <td>1.0</td>\n",
       "    </tr>\n",
       "    <tr>\n",
       "      <th>1</th>\n",
       "      <td>Describa detalladamente cómo los atracadores a...</td>\n",
       "      <td>[La casa de papel  es una serie española que s...</td>\n",
       "      <td>[En el interior del Banco de España la situaci...</td>\n",
       "      <td>Los atracadores entran al Banco de España haci...</td>\n",
       "      <td>0.5</td>\n",
       "      <td>1.0</td>\n",
       "    </tr>\n",
       "  </tbody>\n",
       "</table>\n",
       "</div>"
      ],
      "text/plain": [
       "                                            question  \\\n",
       "0  En la tercera temporada, ¿quiénes se unen a la...   \n",
       "1  Describa detalladamente cómo los atracadores a...   \n",
       "\n",
       "                                   generated_context  \\\n",
       "0  [Desde su posición, El Profesor no puede comun...   \n",
       "1  [La casa de papel  es una serie española que s...   \n",
       "\n",
       "                                  reference_contexts  \\\n",
       "0  [Por su parte, Sagasta traza un plan para desp...   \n",
       "1  [En el interior del Banco de España la situaci...   \n",
       "\n",
       "                                    reference_answer  context_precision  \\\n",
       "0  A esta nueva aventura se incorporarán nuevos i...                1.0   \n",
       "1  Los atracadores entran al Banco de España haci...                0.5   \n",
       "\n",
       "   context_recall  \n",
       "0             1.0  \n",
       "1             1.0  "
      ]
     },
     "execution_count": 10,
     "metadata": {},
     "output_type": "execute_result"
    }
   ],
   "source": [
    "retrieval_results = evaluation_client.evaluate(testset_df = testset_df,\n",
    "                                               retrieval_metrics = ['context_precision', 'context_recall'])\n",
    "retrieval_results"
   ]
  },
  {
   "cell_type": "markdown",
   "metadata": {},
   "source": [
    "### <a id='5' style=\"color: skyblue;\">**5. 🎯 Answer questions & Evaluate**</a>"
   ]
  },
  {
   "cell_type": "markdown",
   "metadata": {},
   "source": [
    "Answer the questions. "
   ]
  },
  {
   "cell_type": "code",
   "execution_count": 9,
   "metadata": {},
   "outputs": [
    {
     "data": {
      "text/html": [
       "<div>\n",
       "<style scoped>\n",
       "    .dataframe tbody tr th:only-of-type {\n",
       "        vertical-align: middle;\n",
       "    }\n",
       "\n",
       "    .dataframe tbody tr th {\n",
       "        vertical-align: top;\n",
       "    }\n",
       "\n",
       "    .dataframe thead th {\n",
       "        text-align: right;\n",
       "    }\n",
       "</style>\n",
       "<table border=\"1\" class=\"dataframe\">\n",
       "  <thead>\n",
       "    <tr style=\"text-align: right;\">\n",
       "      <th></th>\n",
       "      <th>id</th>\n",
       "      <th>question</th>\n",
       "      <th>reference_answer</th>\n",
       "      <th>reference_context</th>\n",
       "      <th>reference_context_id</th>\n",
       "      <th>reference_metadata</th>\n",
       "      <th>reference_context_metadata</th>\n",
       "      <th>generated_context</th>\n",
       "      <th>generated_context_id</th>\n",
       "      <th>generated_answer</th>\n",
       "    </tr>\n",
       "  </thead>\n",
       "  <tbody>\n",
       "    <tr>\n",
       "      <th>0</th>\n",
       "      <td>ea75169d-75c3-41a8-b611-af1c222359e1</td>\n",
       "      <td>En la tercera temporada, ¿quiénes se unen a la...</td>\n",
       "      <td>A esta nueva aventura se incorporarán nuevos i...</td>\n",
       "      <td>['Por su parte, Sagasta traza un plan para des...</td>\n",
       "      <td>['76d44420-e3fc-4b6d-a515-7ebaff6e2fa9', '4822...</td>\n",
       "      <td>{'question_type': 'simple', 'seed_document_id'...</td>\n",
       "      <td>[{'chunk_id': '4822741e-b957-45cd-a9d6-580747d...</td>\n",
       "      <td>[Desde su posición, El Profesor no puede comun...</td>\n",
       "      <td>[4822741e-b957-45cd-a9d6-580747d071eb, ad7424a...</td>\n",
       "      <td>Sí, la información está en el contexto proporc...</td>\n",
       "    </tr>\n",
       "    <tr>\n",
       "      <th>1</th>\n",
       "      <td>108509b2-8b44-499d-a57c-4c21c2540140</td>\n",
       "      <td>Describa detalladamente cómo los atracadores a...</td>\n",
       "      <td>Los atracadores entran al Banco de España haci...</td>\n",
       "      <td>['En el interior del Banco de España la situac...</td>\n",
       "      <td>['44e2769b-1b69-415d-9495-d521b4fd5bfc', '4822...</td>\n",
       "      <td>{'question_type': 'complex', 'seed_document_id...</td>\n",
       "      <td>[{'chunk_id': '4822741e-b957-45cd-a9d6-580747d...</td>\n",
       "      <td>[La casa de papel  es una serie española que s...</td>\n",
       "      <td>[ad7424a3-d2b8-43aa-a098-12743d8c2868, 4822741...</td>\n",
       "      <td>La información proporcionada describe el acces...</td>\n",
       "    </tr>\n",
       "  </tbody>\n",
       "</table>\n",
       "</div>"
      ],
      "text/plain": [
       "                                     id  \\\n",
       "0  ea75169d-75c3-41a8-b611-af1c222359e1   \n",
       "1  108509b2-8b44-499d-a57c-4c21c2540140   \n",
       "\n",
       "                                            question  \\\n",
       "0  En la tercera temporada, ¿quiénes se unen a la...   \n",
       "1  Describa detalladamente cómo los atracadores a...   \n",
       "\n",
       "                                    reference_answer  \\\n",
       "0  A esta nueva aventura se incorporarán nuevos i...   \n",
       "1  Los atracadores entran al Banco de España haci...   \n",
       "\n",
       "                                   reference_context  \\\n",
       "0  ['Por su parte, Sagasta traza un plan para des...   \n",
       "1  ['En el interior del Banco de España la situac...   \n",
       "\n",
       "                                reference_context_id  \\\n",
       "0  ['76d44420-e3fc-4b6d-a515-7ebaff6e2fa9', '4822...   \n",
       "1  ['44e2769b-1b69-415d-9495-d521b4fd5bfc', '4822...   \n",
       "\n",
       "                                  reference_metadata  \\\n",
       "0  {'question_type': 'simple', 'seed_document_id'...   \n",
       "1  {'question_type': 'complex', 'seed_document_id...   \n",
       "\n",
       "                          reference_context_metadata  \\\n",
       "0  [{'chunk_id': '4822741e-b957-45cd-a9d6-580747d...   \n",
       "1  [{'chunk_id': '4822741e-b957-45cd-a9d6-580747d...   \n",
       "\n",
       "                                   generated_context  \\\n",
       "0  [Desde su posición, El Profesor no puede comun...   \n",
       "1  [La casa de papel  es una serie española que s...   \n",
       "\n",
       "                                generated_context_id  \\\n",
       "0  [4822741e-b957-45cd-a9d6-580747d071eb, ad7424a...   \n",
       "1  [ad7424a3-d2b8-43aa-a098-12743d8c2868, 4822741...   \n",
       "\n",
       "                                    generated_answer  \n",
       "0  Sí, la información está en el contexto proporc...  \n",
       "1  La información proporcionada describe el acces...  "
      ]
     },
     "execution_count": 9,
     "metadata": {},
     "output_type": "execute_result"
    }
   ],
   "source": [
    "answers = answering_client.answer_multiple_queries(queries = testset_df[\"question\"].tolist(), \n",
    "                                                   contexts = testset_df[\"generated_context\"].tolist(),\n",
    "                                                   llm = llm)\n",
    "testset_df['generated_answer'] = answers\n",
    "testset_df"
   ]
  },
  {
   "cell_type": "markdown",
   "metadata": {},
   "source": [
    "Evaluate the answering, specifying the `answer_relevancy`, `answer_similarity` and `faithfulness` metrics."
   ]
  },
  {
   "cell_type": "code",
   "execution_count": null,
   "metadata": {},
   "outputs": [],
   "source": [
    "answer_results = evaluation_client.evaluate(testset_df = testset_df,\n",
    "                                            answer_metrics = ['answer_relevancy', 'answer_similarity', 'faithfulness'])\n",
    "answer_results"
   ]
  },
  {
   "cell_type": "markdown",
   "metadata": {},
   "source": [
    "---"
   ]
  }
 ],
 "metadata": {
  "kernelspec": {
   "display_name": "llm",
   "language": "python",
   "name": "python3"
  },
  "language_info": {
   "codemirror_mode": {
    "name": "ipython",
    "version": 3
   },
   "file_extension": ".py",
   "mimetype": "text/x-python",
   "name": "python",
   "nbconvert_exporter": "python",
   "pygments_lexer": "ipython3",
   "version": "3.10.15"
  }
 },
 "nbformat": 4,
 "nbformat_minor": 2
}
